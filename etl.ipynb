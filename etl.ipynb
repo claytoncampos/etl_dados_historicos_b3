{
 "cells": [
  {
   "cell_type": "markdown",
   "id": "b4bcbf02-cf5d-4e9d-88e9-953d7eec5372",
   "metadata": {},
   "source": [
    "ETL - EXTRAÇÃO TRANSFORMAÇÃO E CARGA"
   ]
  },
  {
   "cell_type": "markdown",
   "id": "24b6b829-fb3e-4b2a-808a-0759cb94c163",
   "metadata": {},
   "source": [
    "Dados Históricos da B3 - 2020/21/22\n",
    "\n",
    "https://www.b3.com.br/pt_br/market-data-e-indices/servicos-de-dados/market-data/historico/mercado-a-vista/cotacoes-historicas/\n",
    "\n",
    "Layout Arquivos\n",
    "\n",
    "https://www.b3.com.br/data/files/33/67/B9/50/D84057102C784E47AC094EA8/SeriesHistoricas_Layout.pdf"
   ]
  },
  {
   "cell_type": "code",
   "execution_count": 1,
   "id": "9079efca-5bbc-4fcf-8572-f5e2ac712df5",
   "metadata": {},
   "outputs": [],
   "source": [
    "#importando as bibliotecas - usando a funcao fwf\n",
    "import pandas as pd"
   ]
  },
  {
   "cell_type": "code",
   "execution_count": 14,
   "id": "b1f33864-390a-4539-ac46-b6f422c11470",
   "metadata": {},
   "outputs": [],
   "source": [
    "def read_files(path, name_file, year_date, type_file):\n",
    "    _file = f'{path}{name_file}{year_date}.{type_file}'\n",
    "    \n",
    "    colspecs = [(2,10),\n",
    "                (10,12),\n",
    "                (12,24),\n",
    "                (27,39),\n",
    "                (56,69),\n",
    "                (69,82),\n",
    "                (82,95),\n",
    "                (108,121),\n",
    "                (152,170),\n",
    "                (170,188)           \n",
    "    ]\n",
    "\n",
    "    names = ['data_pregao', 'cod_dbi', 'sigla_acao', 'nome_acao', \\\n",
    "             'preco_abertura', 'preco_maximo', 'preco_minimo', 'preco_fechamento', \\\n",
    "             'qtd_negociada','volume_total']\n",
    "    df = pd.read_fwf(_file, colspecs = colspecs, names = names, skiprows = 1)\n",
    "    \n",
    "    return df\n",
    "\n"
   ]
  },
  {
   "cell_type": "code",
   "execution_count": 15,
   "id": "ed989800-be3b-4b24-aa01-8b4c08590619",
   "metadata": {},
   "outputs": [],
   "source": [
    "#filtrando lote padrão = 2\n",
    "def filter_stocks(df):\n",
    "    df = df [df['cod_dbi'] == 2]\n",
    "    #removendo a coluna 'cod_dbi'\n",
    "    df = df.drop(['cod_dbi'], 1)\n",
    "    \n",
    "    return df\n"
   ]
  },
  {
   "cell_type": "code",
   "execution_count": 16,
   "id": "2a5bbaf2-b283-4dcc-a284-52e34152711d",
   "metadata": {},
   "outputs": [],
   "source": [
    "#ajuste compo de data\n",
    "def parse_date(df):\n",
    "    df['data_pregao'] = pd.to_datetime(df['data_pregao'], format= '%Y%m%d')\n",
    "    return df"
   ]
  },
  {
   "cell_type": "code",
   "execution_count": 17,
   "id": "220fedc7-4b2f-43dc-b089-1eab9a939379",
   "metadata": {},
   "outputs": [],
   "source": [
    "#ajuste dos campos numéricos\n",
    "def parse_values(df):\n",
    "    df['preco_abertura'] = (df['preco_abertura'] /100).astype(float)\n",
    "    df['preco_maximo'] = (df['preco_maximo'] /100).astype(float)\n",
    "    df['preco_minimo'] = (df['preco_minimo'] /100).astype(float)\n",
    "    df['preco_fechamento'] = (df['preco_fechamento'] /100).astype(float)\n",
    "    \n",
    "    return df"
   ]
  },
  {
   "cell_type": "code",
   "execution_count": 27,
   "id": "e5a72cd2-3fdb-4112-9c92-35fbb32acbef",
   "metadata": {},
   "outputs": [],
   "source": [
    "#juntando os arquivos\n",
    "def concat_files(path, name_file, year_date, type_file, final_file):\n",
    "    \n",
    "    for i, y in enumerate(year_date):\n",
    "        df = read_files(path, name_file, y, type_file)\n",
    "        df = filter_stocks(df)\n",
    "        df = parse_date(df)\n",
    "        df = parse_values(df)\n",
    "        \n",
    "        if i==0:\n",
    "            df_final = df\n",
    "        else:\n",
    "            df_final = pd.concat([df_final, df])\n",
    "            \n",
    "    df_final.to_csv(f'{path}//{final_file}', index=False)"
   ]
  },
  {
   "cell_type": "code",
   "execution_count": 28,
   "id": "6314b045-973c-4cfa-9017-ec5e65bbf695",
   "metadata": {},
   "outputs": [],
   "source": [
    "#executando programa de etl\n",
    "\n",
    "year_date = ['2020', '2021', '2022']\n",
    "\n",
    "path = f'/home/clayton/Documentos/Projetos/etl_python/data/'\n",
    "\n",
    "name_file = 'COTAHIST_A'\n",
    "\n",
    "type_file = 'TXT'\n",
    "\n",
    "final_file = 'all_bovespa.csv'\n",
    "\n",
    "concat_files( path, name_file, year_date, type_file, final_file)"
   ]
  },
  {
   "cell_type": "code",
   "execution_count": null,
   "id": "9d419b92-3580-4f27-8702-81765e228465",
   "metadata": {},
   "outputs": [],
   "source": []
  }
 ],
 "metadata": {
  "kernelspec": {
   "display_name": "Python 3",
   "language": "python",
   "name": "python3"
  },
  "language_info": {
   "codemirror_mode": {
    "name": "ipython",
    "version": 3
   },
   "file_extension": ".py",
   "mimetype": "text/x-python",
   "name": "python",
   "nbconvert_exporter": "python",
   "pygments_lexer": "ipython3",
   "version": "3.8.8"
  }
 },
 "nbformat": 4,
 "nbformat_minor": 5
}
